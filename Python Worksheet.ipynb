{
 "cells": [
  {
   "cell_type": "code",
   "execution_count": 3,
   "id": "76d38280",
   "metadata": {},
   "outputs": [
    {
     "name": "stdout",
     "output_type": "stream",
     "text": [
      "Enter a integer: 5\n",
      "Factorial of 5 is 120\n"
     ]
    }
   ],
   "source": [
    "#11. Write a python program to find the factorial of a number.\n",
    "\n",
    "def factorial(a):\n",
    "    if a == 0:\n",
    "        return 1\n",
    "    else:\n",
    "        return a * factorial(a - 1)\n",
    "\n",
    "num = int(input(\"Enter a integer: \"))\n",
    "\n",
    "if num < 0:\n",
    "    print(\"Factorial is not defined for negative numbers.\")\n",
    "else:\n",
    "    print(\"Factorial of\", num, \"is\", factorial(num))\n"
   ]
  },
  {
   "cell_type": "code",
   "execution_count": 5,
   "id": "4e8c5414",
   "metadata": {},
   "outputs": [
    {
     "name": "stdout",
     "output_type": "stream",
     "text": [
      "Enter a integer: 8\n",
      "8 is a composite number\n"
     ]
    }
   ],
   "source": [
    "#12. Write a python program to find whether a number is prime or composite.\n",
    "\n",
    "def prime(n):\n",
    "    if n <= 1:\n",
    "        return False\n",
    "    elif n <= 3:\n",
    "        return True\n",
    "    elif n % 2 == 0 or n % 3 == 0:\n",
    "        return False\n",
    "    a = 5\n",
    "    while a * a <= n:\n",
    "        if n % a == 0 or n % (a + 2) == 0:\n",
    "            return False\n",
    "        a += 6\n",
    "    return True\n",
    "\n",
    "n = int(input(\"Enter a integer: \"))\n",
    "\n",
    "if prime(n):\n",
    "    print(n, \"is a prime number\")\n",
    "else:\n",
    "    print(n, \"is a composite number\")\n"
   ]
  },
  {
   "cell_type": "code",
   "execution_count": 6,
   "id": "aa2cb5df",
   "metadata": {},
   "outputs": [
    {
     "name": "stdout",
     "output_type": "stream",
     "text": [
      "Enter a string: 9\n",
      "String is a palindrome\n"
     ]
    }
   ],
   "source": [
    "#13. Write a python program to check whether a given string is palindrome or not.\n",
    "\n",
    "def palindrome(s):\n",
    "    \n",
    "    s = ''.join(char.lower() for char in s if char.isalnum())\n",
    "    \n",
    "    return s == s[::-1]\n",
    "\n",
    "string = input(\"Enter a string: \")\n",
    "\n",
    "if palindrome(string):\n",
    "    \n",
    "    print(\"String is a palindrome\")\n",
    "else:\n",
    "    print(\"String is not a palindrome\")\n"
   ]
  },
  {
   "cell_type": "code",
   "execution_count": 8,
   "id": "ba8149e5",
   "metadata": {},
   "outputs": [
    {
     "name": "stdout",
     "output_type": "stream",
     "text": [
      "Enter the length of the first side: 3\n",
      "Enter the length of the second side: 6\n",
      "The length of the third side is: 6.708203932499369\n"
     ]
    }
   ],
   "source": [
    "#14. Write a Python program to get the third side of right-angled triangle from two given sides.\n",
    "\n",
    "def find_side(side1, side2):\n",
    "    \n",
    "    squared1 = side1 ** 2\n",
    "    squared2 = side2 ** 2\n",
    "    \n",
    "    hypotenuse_squared = squared1 + squared2\n",
    "    \n",
    "    hypotenuse = hypotenuse_squared ** 0.5\n",
    "    return hypotenuse\n",
    "\n",
    "side1 = float(input(\"Enter the length of the first side: \"))\n",
    "side2 = float(input(\"Enter the length of the second side: \"))\n",
    "\n",
    "third_side = find_side(side1, side2)\n",
    "print(\"The length of the third side is:\", third_side)\n"
   ]
  },
  {
   "cell_type": "code",
   "execution_count": 9,
   "id": "221b8c39",
   "metadata": {},
   "outputs": [
    {
     "name": "stdout",
     "output_type": "stream",
     "text": [
      "Enter a string: 8\n",
      "The character '8' appears 1 time(s)\n"
     ]
    }
   ],
   "source": [
    "#15. Write a python program to print the frequency of each of the characters present in a given string.\n",
    "\n",
    "def frequ(string):\n",
    "    \n",
    "    frequency = {}\n",
    "\n",
    "    for char in string:\n",
    "    \n",
    "        frequency[char] = frequency.get(char, 0) + 1\n",
    "\n",
    "    return frequency\n",
    "\n",
    "string = input(\"Enter a string: \")\n",
    "\n",
    "char_freq = frequ(string)\n",
    "\n",
    "for char, freq in char_freq.items():\n",
    "    print(f\"The character '{char}' appears {freq} time(s)\")\n"
   ]
  }
 ],
 "metadata": {
  "kernelspec": {
   "display_name": "Python 3 (ipykernel)",
   "language": "python",
   "name": "python3"
  },
  "language_info": {
   "codemirror_mode": {
    "name": "ipython",
    "version": 3
   },
   "file_extension": ".py",
   "mimetype": "text/x-python",
   "name": "python",
   "nbconvert_exporter": "python",
   "pygments_lexer": "ipython3",
   "version": "3.11.5"
  }
 },
 "nbformat": 4,
 "nbformat_minor": 5
}
