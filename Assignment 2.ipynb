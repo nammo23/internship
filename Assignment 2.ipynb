{
 "cells": [
  {
   "cell_type": "code",
   "execution_count": 2,
   "id": "7027bd2c",
   "metadata": {},
   "outputs": [
    {
     "name": "stdout",
     "output_type": "stream",
     "text": [
      "Python:Exercises::PHP:exercises:\n"
     ]
    }
   ],
   "source": [
    "#1\n",
    "import re\n",
    "sample_text = 'Python Exercises, PHP exercises.'\n",
    "print(re.sub(\"[ ,.]\", \":\", sample_text))"
   ]
  },
  {
   "cell_type": "code",
   "execution_count": 58,
   "id": "e981a12e",
   "metadata": {},
   "outputs": [
    {
     "name": "stdout",
     "output_type": "stream",
     "text": [
      "         SUMMARY\n",
      "0    hello world\n",
      "1     xxxxx test\n",
      "2  four five six\n"
     ]
    }
   ],
   "source": [
    "#2\n",
    "import pandas as pd\n",
    "import re\n",
    "\n",
    "data = {'SUMMARY': ['hello, world!', 'XXXXX test', '123four, five:; six...']}\n",
    "\n",
    "df = pd.DataFrame(data)\n",
    "\n",
    "df['SUMMARY'] = df['SUMMARY'].apply(lambda x: re.sub(r'[^a-z\\s]', '', x.lower()))\n",
    "\n",
    "print(df)"
   ]
  },
  {
   "cell_type": "code",
   "execution_count": 41,
   "id": "f3351c57",
   "metadata": {},
   "outputs": [
    {
     "name": "stdout",
     "output_type": "stream",
     "text": [
      "['name', 'Namrata', 'Chauhan', 'leaving', 'virar']\n"
     ]
    }
   ],
   "source": [
    "#3\n",
    "import re\n",
    "\n",
    "def find_words(text):\n",
    "    pattern = re.compile(r'\\b\\w{4,}\\b')\n",
    "    long_words = pattern.findall(text)\n",
    "    \n",
    "    return long_words\n",
    "\n",
    "text = \"My name is Namrata Chauhan, I'm leaving in virar.\"\n",
    "result = find_words(text)\n",
    "print(result)\n"
   ]
  },
  {
   "cell_type": "code",
   "execution_count": 44,
   "id": "ad2c7d12",
   "metadata": {},
   "outputs": [
    {
     "name": "stdout",
     "output_type": "stream",
     "text": [
      "['This', 'test', 'with', 'words', 'such', 'and']\n"
     ]
    }
   ],
   "source": [
    "#4\n",
    "import re\n",
    "\n",
    "def find_length(text):\n",
    "    pattern = re.compile(r'\\b\\w{3,5}\\b')\n",
    "    words = pattern.findall(text)\n",
    "    \n",
    "    return words\n",
    "\n",
    "text = \"This is a test sentence with words of varying lengths, such as 'pandas', 'python', and 'regular expressions'.\"\n",
    "result = find_length(text)\n",
    "print(result)"
   ]
  },
  {
   "cell_type": "code",
   "execution_count": 45,
   "id": "cdb39c48",
   "metadata": {},
   "outputs": [
    {
     "name": "stdout",
     "output_type": "stream",
     "text": [
      "['example ', 'hr@fliprobo ', 'github ', 'Hello ', 'Data ']\n"
     ]
    }
   ],
   "source": [
    "#5\n",
    "import re\n",
    "\n",
    "def remove_parenthesis(strings):\n",
    "    pattern = re.compile(r'\\([^)]*\\)')\n",
    "    result_strings = [pattern.sub('', s) for s in strings]\n",
    "    \n",
    "    return result_strings\n",
    "\n",
    "sample_text = [\"example (.com)\", \"hr@fliprobo (.com)\", \"github (.com)\", \"Hello (Data Science World)\", \"Data (Scientist)\"]\n",
    "\n",
    "cleaned_text = remove_parenthesis(sample_text)\n",
    "print(cleaned_text)"
   ]
  },
  {
   "cell_type": "code",
   "execution_count": 27,
   "id": "083fc797",
   "metadata": {},
   "outputs": [
    {
     "name": "stdout",
     "output_type": "stream",
     "text": [
      "[\"example\",\"hr@fliprobo\",\"github\",\"Hello\",\"Data\"]\n"
     ]
    }
   ],
   "source": [
    "#6\n",
    "import re\n",
    "import os\n",
    "\n",
    "def remove_parenthesis(file_path):\n",
    "    try:\n",
    "        with open(file_path,'r') as file:\n",
    "            text = file.read()\n",
    "        pattern = re.compile(r'\\s+\\([^)]*\\)')\n",
    "        cleaned_text = pattern.sub('', text)\n",
    "        pattern2 = re.compile(r'\\s+')\n",
    "        result = pattern2.sub('', cleaned_text)\n",
    "\n",
    "        with open(file_path,'w') as file:\n",
    "            file.write(result)\n",
    "        \n",
    "        print(result)\n",
    "    except FileNotFoundError:\n",
    "        print(\"File not found:\",file_path)\n",
    "    except Exception as e:\n",
    "        print(\"An error occurred:\",e)\n",
    "\n",
    "file_path = os.path.join('C:\\\\Users\\\\lenovo -pc\\\\OneDrive\\\\Desktop\\\\sample', 'sample.txt')\n",
    "remove_parenthesis(file_path)\n"
   ]
  },
  {
   "cell_type": "code",
   "execution_count": 46,
   "id": "88881229",
   "metadata": {},
   "outputs": [
    {
     "name": "stdout",
     "output_type": "stream",
     "text": [
      "['I', 'O', 'R', 'E', 'I', 'P']\n"
     ]
    }
   ],
   "source": [
    "#7\n",
    "import re\n",
    "\n",
    "def uppercase(text):\n",
    "    pattern = re.compile(r'[A-Z]')\n",
    "    uppercase_letters = pattern.findall(text)\n",
    "    \n",
    "    return uppercase_letters\n",
    "\n",
    "sample_text = \"ImportanceOfRegularExpressionsInPython\"\n",
    "result = uppercase(sample_text)\n",
    "print(result)\n"
   ]
  },
  {
   "cell_type": "code",
   "execution_count": 96,
   "id": "06267b32",
   "metadata": {},
   "outputs": [
    {
     "name": "stdout",
     "output_type": "stream",
     "text": [
      "RegularExpression 1IsAn 2ImportantTopic 3InPython\n"
     ]
    }
   ],
   "source": [
    "#8\n",
    "import re\n",
    "\n",
    "def spaces(text):\n",
    "    modified_text = re.sub(r'(?<=\\D)(?=\\d)', ' ', text)\n",
    "    return modified_text\n",
    "\n",
    "sample = \"RegularExpression1IsAn2ImportantTopic3InPython\"\n",
    "\n",
    "print(spaces(sample))"
   ]
  },
  {
   "cell_type": "code",
   "execution_count": 98,
   "id": "ab7774ff",
   "metadata": {
    "scrolled": true
   },
   "outputs": [
    {
     "name": "stdout",
     "output_type": "stream",
     "text": [
      "RegularExpression 1 IsAn 2 ImportantTopic 3 InPython\n"
     ]
    }
   ],
   "source": [
    "#9\n",
    "import re\n",
    "\n",
    "def spaces(text):\n",
    "    \n",
    "    modified_text = re.sub(r'(?<=\\D)(?=\\d)|(?<=\\d)(?=\\D)', ' ', text)\n",
    "    return modified_text\n",
    "\n",
    "sample = \"RegularExpression1IsAn2ImportantTopic3InPython\"\n",
    "\n",
    "print(spaces(sample))"
   ]
  },
  {
   "cell_type": "code",
   "execution_count": null,
   "id": "0f3be599",
   "metadata": {},
   "outputs": [],
   "source": [
    "#10"
   ]
  },
  {
   "cell_type": "code",
   "execution_count": 77,
   "id": "3ae37ff3",
   "metadata": {},
   "outputs": [
    {
     "name": "stdout",
     "output_type": "stream",
     "text": [
      "'Hello123' is a valid string.\n",
      "'Python_Code' is a valid string.\n",
      "'test123_' is a valid string.\n",
      "'Hello*World' is not a valid string.\n"
     ]
    }
   ],
   "source": [
    "#11\n",
    "import re\n",
    "\n",
    "def valid_string(sample):\n",
    "    pattern = re.compile(r'^[a-zA-Z0-9_]+$')\n",
    "    \n",
    "    if pattern.match(sample):\n",
    "        return True\n",
    "    else:\n",
    "        return False\n",
    "\n",
    "sample_strings = [\"Hello123\", \"Python_Code\", \"test123_\", \"Hello*World\"]\n",
    "\n",
    "for string in sample_strings:\n",
    "    if valid_string(string):\n",
    "        print(f\"'{string}' is a valid string.\")\n",
    "    else:\n",
    "        print(f\"'{string}' is not a valid string.\")\n"
   ]
  },
  {
   "cell_type": "code",
   "execution_count": 78,
   "id": "9c338913",
   "metadata": {},
   "outputs": [
    {
     "name": "stdout",
     "output_type": "stream",
     "text": [
      "'123abc' starts with 123: True\n",
      "'456xyz' starts with 123: False\n"
     ]
    }
   ],
   "source": [
    "#12\n",
    "def starts_number(string, number):\n",
    "    return string.startswith(str(number))\n",
    "\n",
    "string1 = \"123abc\"\n",
    "string2 = \"456xyz\"\n",
    "number_check = 123\n",
    "\n",
    "print(f\"'{string1}' starts with {number_check}: {starts_number(string1, number_check)}\")\n",
    "print(f\"'{string2}' starts with {number_check}: {starts_number(string2, number_check)}\")\n"
   ]
  },
  {
   "cell_type": "code",
   "execution_count": 36,
   "id": "dca97a28",
   "metadata": {},
   "outputs": [
    {
     "name": "stdout",
     "output_type": "stream",
     "text": [
      "Original IP address 1: 192.168.001.001\n",
      "Clean IP address 1: 192.168.1.1\n",
      "Original IP address 2: 010.001.025.100\n",
      "Clean IP address 2: 10.1.25.100\n"
     ]
    }
   ],
   "source": [
    "#13\n",
    "import re\n",
    "\n",
    "def remove(ip_address):\n",
    "    pattern = re.compile(r'\\b0+(\\d+)')\n",
    "    clean_ip = pattern.sub(r'\\1', ip_address)\n",
    "    \n",
    "    return clean_ip\n",
    "\n",
    "ip1 = \"192.168.001.001\"\n",
    "ip2 = \"010.001.025.100\"\n",
    "\n",
    "clean_ip1 = remove(ip1)\n",
    "clean_ip2 = remove(ip2)\n",
    "\n",
    "print(\"Original IP address 1:\", ip1)\n",
    "print(\"Clean IP address 1:\", clean_ip1)\n",
    "\n",
    "print(\"Original IP address 2:\", ip2)\n",
    "print(\"Clean IP address 2:\", clean_ip2)\n"
   ]
  },
  {
   "cell_type": "code",
   "execution_count": 33,
   "id": "6581ccbf",
   "metadata": {},
   "outputs": [
    {
     "name": "stdout",
     "output_type": "stream",
     "text": [
      "['August 15th 1947']\n"
     ]
    }
   ],
   "source": [
    "#14\n",
    "import re\n",
    "import os\n",
    "\n",
    "def find_dates(file_path):\n",
    "    try:\n",
    "        with open(file_path, 'r') as file:\n",
    "            text = file.read()\n",
    "\n",
    "        date_regex = r'\\b(?:January|February|March|April|May|June|July|August|September|October|November|December)\\s+\\d{1,2}(?:st|nd|rd|th)\\s+\\d{4}\\b'\n",
    "        matches = re.findall(date_regex, text)\n",
    "\n",
    "        \n",
    "        return matches\n",
    "    except FileNotFoundError:\n",
    "        print(\"File not found:\", file_path)\n",
    "        return []\n",
    "    except Exception as e:\n",
    "        print(\"An error occurred:\", e)\n",
    "        return []\n",
    "    \n",
    "file_path = os.path.join('C:\\\\Users\\\\lenovo -pc\\\\OneDrive\\\\Desktop\\\\sample', 'sample1.txt')\n",
    "\n",
    "dates_found = find_dates(file_path)\n",
    "print(dates_found)\n"
   ]
  },
  {
   "cell_type": "code",
   "execution_count": 6,
   "id": "03c36e3b",
   "metadata": {},
   "outputs": [
    {
     "name": "stdout",
     "output_type": "stream",
     "text": [
      "Positions of search strings: {'quick': 4, 'fox': 16, 'lazy': 35}\n"
     ]
    }
   ],
   "source": [
    "#15\n",
    "def find_strings(text, search_strings):\n",
    "    positions = {}\n",
    "    for search_str in search_strings:\n",
    "        if search_str in text:\n",
    "            positions[search_str] = text.index(search_str)\n",
    "    return positions\n",
    "\n",
    "sample_text = 'The quick brown fox jumps over the lazy dog.'\n",
    "search_strings = ['quick', 'fox', 'lazy']\n",
    "\n",
    "found_positions = find_strings(sample_text, search_strings)\n",
    "print(\"Positions of search strings:\", found_positions)\n"
   ]
  },
  {
   "cell_type": "code",
   "execution_count": 39,
   "id": "0f148ca8",
   "metadata": {},
   "outputs": [
    {
     "name": "stdout",
     "output_type": "stream",
     "text": [
      "Pattern 'fox' found at location(s): (16, 19)\n"
     ]
    }
   ],
   "source": [
    "#16\n",
    "import re\n",
    "\n",
    "def search(text, pattern):\n",
    "    matches = re.finditer(pattern, text)\n",
    "    match_location = {}\n",
    "\n",
    "    for match in matches:\n",
    "        start = match.start()\n",
    "        end = match.end()\n",
    "        match_location[match.group(0)] = (start, end)\n",
    "    \n",
    "    return match_location\n",
    "\n",
    "sample_text = 'The quick brown fox jumps over the lazy dog.'\n",
    "\n",
    "search_pattern = 'fox'\n",
    "found_locations = search(sample_text, search_pattern)\n",
    "\n",
    "for pattern, locations in found_locations.items():\n",
    "    print(f\"Pattern '{pattern}' found at location(s): {locations}\")\n"
   ]
  },
  {
   "cell_type": "code",
   "execution_count": 32,
   "id": "ebcae5e0",
   "metadata": {},
   "outputs": [
    {
     "name": "stdout",
     "output_type": "stream",
     "text": [
      "Positions: {'exercises': [7, 22, 36], 'PHP': [18]}\n"
     ]
    }
   ],
   "source": [
    "#17\n",
    "def find_substrings(text, substrings):\n",
    "    positions = {}\n",
    "    for substring in substrings:\n",
    "        start = 0\n",
    "        positions[substring] = []\n",
    "        while True:\n",
    "            position = text.find(substring, start)\n",
    "            if position == -1:\n",
    "                break\n",
    "            positions[substring].append(position)\n",
    "            start = position + 1\n",
    "    return positions\n",
    "\n",
    "sample_text = 'Python exercises, PHP exercises, C# exercises'\n",
    "\n",
    "substrings = ['exercises', 'PHP']\n",
    "\n",
    "found_positions = find_substrings(sample_text, substrings)\n",
    "print(\"Positions:\", found_positions)\n"
   ]
  },
  {
   "cell_type": "code",
   "execution_count": 79,
   "id": "84d61f81",
   "metadata": {},
   "outputs": [
    {
     "name": "stdout",
     "output_type": "stream",
     "text": [
      "Occurrences: 3\n",
      "Positions: [7, 22, 36]\n"
     ]
    }
   ],
   "source": [
    "#18\n",
    "def find(text, substring):\n",
    "    occurrences = []\n",
    "    start = 0\n",
    "    while True:\n",
    "        position = text.find(substring, start)\n",
    "        if position == -1:\n",
    "            break\n",
    "        occurrences.append(position)\n",
    "        start = position + 1\n",
    "    return len(occurrences), occurrences\n",
    "\n",
    "sample = 'Python exercises, PHP exercises, C# exercises'\n",
    "substring = 'exercises'\n",
    "\n",
    "count, positions = find(sample, substring)\n",
    "\n",
    "print(\"Occurrences:\", count)\n",
    "print(\"Positions:\", positions)\n"
   ]
  },
  {
   "cell_type": "code",
   "execution_count": 80,
   "id": "725d47cf",
   "metadata": {},
   "outputs": [
    {
     "name": "stdout",
     "output_type": "stream",
     "text": [
      "Original date: 2024-04-28\n",
      "Formatted date: 28-04-2024\n"
     ]
    }
   ],
   "source": [
    "#19\n",
    "from datetime import datetime\n",
    "\n",
    "def convert_date(date_string):\n",
    "    date_object = datetime.strptime(date_string, '%Y-%m-%d')\n",
    "    formatted_date = date_object.strftime('%d-%m-%Y')\n",
    "    \n",
    "    return formatted_date\n",
    "date_string = '2024-04-28'\n",
    "formatted_date = convert_date(date_string)\n",
    "print(\"Original date:\", date_string)\n",
    "print(\"Formatted date:\", formatted_date)\n"
   ]
  },
  {
   "cell_type": "code",
   "execution_count": 81,
   "id": "1fd63306",
   "metadata": {},
   "outputs": [
    {
     "name": "stdout",
     "output_type": "stream",
     "text": [
      "['01.12', '145.8', '3.01', '27.25', '0.25']\n"
     ]
    }
   ],
   "source": [
    "#20\n",
    "import re\n",
    "\n",
    "def find_decimal(text):\n",
    "    pattern = re.compile(r'\\b\\d+\\.\\d{1,2}\\b')\n",
    "    decimal_numbers = pattern.findall(text)\n",
    "    \n",
    "    return decimal_numbers\n",
    "sample = \"01.12 0132.123 2.31875 145.8 3.01 27.25 0.25\"\n",
    "result = find_decimal(sample)\n",
    "print(result)\n"
   ]
  },
  {
   "cell_type": "code",
   "execution_count": 82,
   "id": "f2c2aa85",
   "metadata": {},
   "outputs": [
    {
     "name": "stdout",
     "output_type": "stream",
     "text": [
      "Numbers: ['1', '2', '3', '4', '5', '6', '7', '8', '9']\n",
      "Positions: [3, 4, 5, 9, 10, 11, 15, 16, 17]\n"
     ]
    }
   ],
   "source": [
    "#21\n",
    "def separate(text):\n",
    "    numbers = []\n",
    "    positions = []\n",
    "    for i, char in enumerate(text):\n",
    "        if char.isdigit():\n",
    "            numbers.append(char)\n",
    "            positions.append(i)\n",
    "    return numbers, positions\n",
    "sample = \"abc123def456ghi789\"\n",
    "numbers, positions = separate(sample)\n",
    "\n",
    "print(\"Numbers:\", numbers)\n",
    "print(\"Positions:\", positions)\n"
   ]
  },
  {
   "cell_type": "code",
   "execution_count": 83,
   "id": "dea8a8c7",
   "metadata": {},
   "outputs": [
    {
     "name": "stdout",
     "output_type": "stream",
     "text": [
      "Maximum numeric value: 950\n"
     ]
    }
   ],
   "source": [
    "#22\n",
    "import re\n",
    "\n",
    "def extract(text):\n",
    "    pattern = re.compile(r'\\b\\d+\\b')\n",
    "    numeric_values = pattern.findall(text)\n",
    "    if numeric_values:\n",
    "        max_value = max(map(int, numeric_values))\n",
    "        return max_value\n",
    "    else:\n",
    "        return None\n",
    "sample = 'My marks in each semester are: 947, 896, 926, 524, 734, 950, 642'\n",
    "\n",
    "max = extract(sample)\n",
    "print(\"Maximum numeric value:\", max)\n"
   ]
  },
  {
   "cell_type": "code",
   "execution_count": 84,
   "id": "9e082633",
   "metadata": {},
   "outputs": [
    {
     "name": "stdout",
     "output_type": "stream",
     "text": [
      "Regular Expression Is An Important Topic In Python\n"
     ]
    }
   ],
   "source": [
    "#23\n",
    "def capital_words(text):\n",
    "    words = []\n",
    "    current_word = ''\n",
    "    for char in text:\n",
    "        if char.isupper():\n",
    "            if current_word:\n",
    "                words.append(current_word)\n",
    "            current_word = char\n",
    "        else:\n",
    "            current_word += char\n",
    "    if current_word:\n",
    "        words.append(current_word)\n",
    "    return ' '.join(words)\n",
    "\n",
    "sample = \"RegularExpressionIsAnImportantTopicInPython\"\n",
    "result = capital_words(sample)\n",
    "print(result)\n"
   ]
  },
  {
   "cell_type": "code",
   "execution_count": 85,
   "id": "c58ebfd3",
   "metadata": {},
   "outputs": [
    {
     "name": "stdout",
     "output_type": "stream",
     "text": [
      "['This', 'Test', 'Some', 'Lowercase', 'Test']\n"
     ]
    }
   ],
   "source": [
    "#24\n",
    "import re\n",
    "\n",
    "sample = \"This is a Test with Some Lowercase letters and ANOTHER Test with MORE lowerCASE letters\"\n",
    "pattern = r\"[A-Z][a-z]+\"\n",
    "\n",
    "result = re.findall(pattern, sample)\n",
    "print(result)\n"
   ]
  },
  {
   "cell_type": "code",
   "execution_count": 86,
   "id": "381294cf",
   "metadata": {},
   "outputs": [
    {
     "name": "stdout",
     "output_type": "stream",
     "text": [
      "Original Text: Hello hello world world\n",
      "Cleaned Text: Hello world\n"
     ]
    }
   ],
   "source": [
    "#25\n",
    "import re\n",
    "\n",
    "def remove_duplicate(sentence):\n",
    "    pattern = r'\\b(\\w+)(\\s+\\1)+\\b'\n",
    "    result_sentence = re.sub(pattern, r'\\1', sentence, flags=re.IGNORECASE)\n",
    "    return result_sentence\n",
    "\n",
    "sample = \"Hello hello world world\"\n",
    "cleaned = remove_duplicate(sample)\n",
    "print(\"Original Text:\", sample)\n",
    "print(\"Cleaned Text:\", cleaned)\n"
   ]
  },
  {
   "cell_type": "code",
   "execution_count": 88,
   "id": "452eb64f",
   "metadata": {},
   "outputs": [
    {
     "name": "stdout",
     "output_type": "stream",
     "text": [
      "hello123: True\n",
      "world!: False\n",
      "12345: True\n",
      "testing-: False\n"
     ]
    }
   ],
   "source": [
    "#26\n",
    "import re\n",
    "\n",
    "def alphanumeric(string):\n",
    "    pattern = r'\\w$'\n",
    "    if re.search(pattern, string):\n",
    "        return True\n",
    "    else:\n",
    "        return False\n",
    "test = [\"hello123\", \"world!\", \"12345\", \"testing-\"]\n",
    "for test in test:\n",
    "    print(f\"{test}: {alphanumeric(test)}\")\n"
   ]
  },
  {
   "cell_type": "code",
   "execution_count": 89,
   "id": "12f6bd45",
   "metadata": {},
   "outputs": [
    {
     "name": "stdout",
     "output_type": "stream",
     "text": [
      "Hashtags: ['#Doltiwal', '#xyzabc', '#Demonetization']\n"
     ]
    }
   ],
   "source": [
    "#27\n",
    "import re\n",
    "\n",
    "def extract(text):\n",
    "    pattern = r'#\\w+'\n",
    "    hashtags = re.findall(pattern, text)\n",
    "    return hashtags\n",
    "\n",
    "sample = \"\"\"RT @kapil_kausik: #Doltiwal I mean #xyzabc is \"hurt\" by #Demonetization as the same has rendered USELESS <ed><U+00A0><U+00BD><ed><U+00B1><U+0089> \"acquired funds\" No wo\"\"\"\n",
    "\n",
    "hashtags = extract(sample)\n",
    "print(\"Hashtags:\", hashtags)\n"
   ]
  },
  {
   "cell_type": "code",
   "execution_count": null,
   "id": "75d32948",
   "metadata": {},
   "outputs": [],
   "source": [
    "#28"
   ]
  },
  {
   "cell_type": "code",
   "execution_count": 93,
   "id": "4bdc611a",
   "metadata": {},
   "outputs": [
    {
     "name": "stdout",
     "output_type": "stream",
     "text": [
      "Dates extracted from the text file: ['12-09-1992', '15-12-1999']\n"
     ]
    }
   ],
   "source": [
    "#29\n",
    "import re\n",
    "import os\n",
    "\n",
    "def dates(file_path):\n",
    "    with open(file_path, 'r') as file:\n",
    "        text = file.read()\n",
    "        pattern = r'\\b\\d{2}-\\d{2}-\\d{4}\\b'\n",
    "        dates = re.findall(pattern, text)\n",
    "        return dates\n",
    "\n",
    "file_path = os.path.join('C:\\\\Users\\\\lenovo -pc\\\\OneDrive\\\\Desktop\\\\sample','sample 2.txt')\n",
    "dates = dates(file_path)\n",
    "print(\"Dates extracted from the text file:\", dates)\n"
   ]
  },
  {
   "cell_type": "code",
   "execution_count": 91,
   "id": "ef703c9a",
   "metadata": {},
   "outputs": [
    {
     "name": "stdout",
     "output_type": "stream",
     "text": [
      "Cleaned Text:  following example creates  ArrayList  a capacity   elements. 4 elements   added   ArrayList   ArrayList  trimmed accordingly.\n"
     ]
    }
   ],
   "source": [
    "#30\n",
    "import re\n",
    "\n",
    "def words(text):\n",
    "    pattern = re.compile(r'\\b\\w{2,4}\\b')\n",
    "    result_text = pattern.sub('', text)\n",
    "    return result_text\n",
    "\n",
    "sample = \"The following example creates an ArrayList with a capacity of 50 elements. 4 elements are then added to the ArrayList and the ArrayList is trimmed accordingly.\"\n",
    "result_text = words(sample)\n",
    "print(\"Cleaned Text:\", result_text)\n"
   ]
  },
  {
   "cell_type": "code",
   "execution_count": null,
   "id": "a54d142b",
   "metadata": {},
   "outputs": [],
   "source": []
  }
 ],
 "metadata": {
  "kernelspec": {
   "display_name": "Python 3 (ipykernel)",
   "language": "python",
   "name": "python3"
  },
  "language_info": {
   "codemirror_mode": {
    "name": "ipython",
    "version": 3
   },
   "file_extension": ".py",
   "mimetype": "text/x-python",
   "name": "python",
   "nbconvert_exporter": "python",
   "pygments_lexer": "ipython3",
   "version": "3.11.5"
  }
 },
 "nbformat": 4,
 "nbformat_minor": 5
}
